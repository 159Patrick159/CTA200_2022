{
 "cells": [
  {
   "cell_type": "markdown",
   "id": "61dd9f52",
   "metadata": {},
   "source": [
    "# Assignment 2 : Patrick Sandoval"
   ]
  },
  {
   "cell_type": "code",
   "execution_count": 1,
   "id": "a2e491f7",
   "metadata": {},
   "outputs": [],
   "source": [
    "import numpy as np\n"
   ]
  },
  {
   "cell_type": "code",
   "execution_count": 23,
   "id": "13d97126",
   "metadata": {},
   "outputs": [],
   "source": [
    "def f(x):\n",
    "    return(x**3 - x**2 - 1)\n",
    "\n",
    "def df(x):\n",
    "    return(3*x**2 - 2*x)\n",
    "\n",
    "def newton(f,df, x0, epsilon=1e-6, max_iter=30):\n",
    "    \"\"\" Implementation of Newtonw method for numerically determining the roots\n",
    "    of a polynomial and the number of iterations it took to find the root. \n",
    "    If number of iterations are exceedes max_iter before the condition f(x) < epsilon\n",
    "    then function returns 'iteration failed'\"\"\"\n",
    "    # Initialize an array for the x\n",
    "    x = np.ones(max_iter)\n",
    "    # Set the initial value for x\n",
    "    x[0] = x0\n",
    "    # Initialze array for all roots\n",
    "    roots = []\n",
    "    it = []\n",
    "    \n",
    "    # Apply Newton's method\n",
    "    for i in range(max_iter-1):\n",
    "        # Compute i+1 element through Newton's methods\n",
    "        x[i+1] = x[i] - f(x[i])/df(x[i])\n",
    "        # Check if x[i+1] is a root\n",
    "        if abs(f(x[i+1])) < epsilon:\n",
    "            # Append to list of roots\n",
    "            it.append(i)\n",
    "            roots.append(x[i+1])\n",
    "            \n",
    "    if len(roots) != 0:\n",
    "        return(roots,it)\n",
    "    else:\n",
    "        return(\"Iteration Failed\")\n",
    "    "
   ]
  },
  {
   "cell_type": "markdown",
   "id": "d46c7403",
   "metadata": {},
   "source": [
    "# Using Newtons Method to Find Roots"
   ]
  },
  {
   "cell_type": "code",
   "execution_count": 24,
   "id": "3290165e",
   "metadata": {},
   "outputs": [
    {
     "data": {
      "text/plain": [
       "([1.4655713049532344], [23])"
      ]
     },
     "execution_count": 24,
     "metadata": {},
     "output_type": "execute_result"
    }
   ],
   "source": [
    "newton(f,df,-300)"
   ]
  }
 ],
 "metadata": {
  "kernelspec": {
   "display_name": "Python 3 (ipykernel)",
   "language": "python",
   "name": "python3"
  },
  "language_info": {
   "codemirror_mode": {
    "name": "ipython",
    "version": 3
   },
   "file_extension": ".py",
   "mimetype": "text/x-python",
   "name": "python",
   "nbconvert_exporter": "python",
   "pygments_lexer": "ipython3",
   "version": "3.10.2"
  }
 },
 "nbformat": 4,
 "nbformat_minor": 5
}
